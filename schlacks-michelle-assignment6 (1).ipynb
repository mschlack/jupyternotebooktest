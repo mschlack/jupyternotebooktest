{
 "cells": [
  {
   "cell_type": "code",
   "execution_count": 742,
   "id": "0f36a6a5-b55e-4cd0-951b-018c666ea5f5",
   "metadata": {},
   "outputs": [],
   "source": [
    "import pandas as pd\n",
    "import bqplot\n",
    "import numpy as np\n",
    "import ipywidgets\n",
    "from datetime import datetime\n",
    "import bqplot\n",
    "from bqplot import pyplot as plt\n",
    "\n"
   ]
  },
  {
   "cell_type": "code",
   "execution_count": 743,
   "id": "d6d6c4d9-ada7-4d07-bb34-d5dac9722b76",
   "metadata": {},
   "outputs": [],
   "source": [
    "df = pd.read_csv(\"https://uiuc-ischool-dataviz.github.io/is445_AOUAOG_fall2021/week02/data/building_inventory.csv\",\n",
    "                 na_values = {'Year Acquired': 0, \n",
    "                                     'Year Constructed': 0, \n",
    "                                     'Square Footage': 0})\n"
   ]
  },
  {
   "cell_type": "code",
   "execution_count": 744,
   "id": "666e74e5-f57f-4ab1-8d1e-d4faa193142c",
   "metadata": {},
   "outputs": [],
   "source": [
    "df['Year Acquired'] = pd.to_datetime(df['Year Acquired'], format='%Y')\n",
    "dfheatmap = pd.pivot_table(df,  index=[\"Agency Name\"],\n",
    "                                values=[\"Square Footage\"],\n",
    "                                columns=[\"County\"],\n",
    "                                aggfunc=np.mean)"
   ]
  },
  {
   "cell_type": "code",
   "execution_count": 745,
   "id": "47f83bfe-71db-4409-8766-ebc18d2637e8",
   "metadata": {},
   "outputs": [],
   "source": [
    "col_sc = bqplot.ColorScale(scheme='inferno')\n",
    "x_sc = bqplot.OrdinalScale() \n",
    "y_sc = bqplot.OrdinalScale()"
   ]
  },
  {
   "cell_type": "code",
   "execution_count": 746,
   "id": "ab667a21-5a23-4aad-a9c6-964c3046a2c4",
   "metadata": {},
   "outputs": [],
   "source": [
    "col_ax = bqplot.ColorAxis(scale=col_sc, orientation='vertical', side='right')\n",
    "x_ax = bqplot.Axis(scale=x_sc, label='County', label_offset='100px',tick_rotate=60,tick_style={'font-size':'7px'})\n",
    "y_ax = bqplot.Axis(scale=y_sc, orientation='vertical', label='Agency Name', tick_style={'font-size':'5px'})"
   ]
  },
  {
   "cell_type": "code",
   "execution_count": 747,
   "id": "4f296535-c1e8-42b3-ac75-fc91a903bcc7",
   "metadata": {},
   "outputs": [],
   "source": [
    "anames = dfheatmap.columns.levels[1].to_list() "
   ]
  },
  {
   "cell_type": "code",
   "execution_count": 748,
   "id": "85b637da-070d-427c-8ddb-4e5d8140166b",
   "metadata": {},
   "outputs": [],
   "source": [
    "heat_map = bqplot.GridHeatMap(color = np.log10(dfheatmap.values),\n",
    "                              row = dfheatmap.index, \n",
    "                              column = anames,\n",
    "                              scales = {'color': col_sc,\n",
    "                                        'row': y_sc,\n",
    "                                        'column': x_sc},\n",
    "                              interactions = {'click': 'select'},\n",
    "                              anchor_style = {'fill':'blue'}, \n",
    "                              selected_style = {'opacity': 1.0},\n",
    "                              unselected_style = {'opacity': 1.0})"
   ]
  },
  {
   "cell_type": "code",
   "execution_count": 749,
   "id": "174c99cb-3595-42b3-9802-6e29c9a478a8",
   "metadata": {},
   "outputs": [
    {
     "data": {
      "application/vnd.jupyter.widget-view+json": {
       "model_id": "90e4226fd54d4c42bc8231e3e34cb3f1",
       "version_major": 2,
       "version_minor": 0
      },
      "text/plain": [
       "VBox(children=(Figure(axes=[ColorAxis(orientation='vertical', scale=ColorScale(scheme='inferno'), side='right'…"
      ]
     },
     "metadata": {},
     "output_type": "display_data"
    }
   ],
   "source": [
    "fig.layout.min_width='500px'\n",
    "figures = ipywidgets.HBox([fig])\n",
    "fig = bqplot.Figure(marks=[heat_map], axes=[col_ax,x_ax,y_ax])\n",
    "myDashboard = ipywidgets.VBox([fig])\n",
    "myDashboard\n"
   ]
  },
  {
   "cell_type": "code",
   "execution_count": 750,
   "id": "6ea95fcb-bd89-432b-a504-3cc70f2e466a",
   "metadata": {},
   "outputs": [],
   "source": [
    "x_scl = bqplot.DateScale()\n",
    "y_scl = bqplot.LinearScale()\n",
    "\n",
    "ax_xcl = bqplot.Axis(label='Date', scale=x_scl)\n",
    "ax_ycl = bqplot.Axis(label='Square footage in year acquired', scale=y_scl, \n",
    "                    orientation='vertical', side='left')"
   ]
  },
  {
   "cell_type": "code",
   "execution_count": 751,
   "id": "283d8201-0e02-4fb0-a589-0b59ffd01941",
   "metadata": {},
   "outputs": [],
   "source": [
    "i,j = 0,0\n",
    "mask = (df['Agency Name'] == dfheatmap.index[i]) & \\\n",
    "       (df['County'] == dfheatmap.columns.levels[1][j])\n",
    "subset = df[mask]\n"
   ]
  },
  {
   "cell_type": "code",
   "execution_count": 752,
   "id": "811ebae2-81d2-470d-be1b-5e0eb7af865e",
   "metadata": {},
   "outputs": [],
   "source": [
    "group = subset.groupby(\"Year Acquired\")[\"Square Footage\"].sum()\n",
    "years = group.index\n",
    "sqft = group.values"
   ]
  },
  {
   "cell_type": "code",
   "execution_count": 753,
   "id": "da7f00e0-015a-425f-8b49-cccb363877b3",
   "metadata": {},
   "outputs": [
    {
     "data": {
      "application/vnd.jupyter.widget-view+json": {
       "model_id": "e18e31f40ae94a03b678641aac3cb91a",
       "version_major": 2,
       "version_minor": 0
      },
      "text/plain": [
       "Figure(axes=[Axis(label='Square footage in year acquired', orientation='vertical', scale=LinearScale(), side='…"
      ]
     },
     "metadata": {},
     "output_type": "display_data"
    }
   ],
   "source": [
    "bar = bqplot.Bars(x = years, \n",
    "                  y = sqft,\n",
    "                  scales = {'x': x_scl,\n",
    "                            'y': y_scl},\n",
    "                 color_mode=\"auto\",\n",
    "                 colors=[\"fuchsia\", \"maroon\", \"purple\", \"red\", \"yellow\"])\n",
    "\n",
    "fig_bar = bqplot.Figure(marks = [bar], axes = [ax_ycl, ax_xcl])\n",
    "fig_bar"
   ]
  },
  {
   "cell_type": "code",
   "execution_count": 754,
   "id": "30192ace-9f34-41de-9b9e-6444f080a32c",
   "metadata": {},
   "outputs": [
    {
     "data": {
      "application/vnd.jupyter.widget-view+json": {
       "model_id": "5f33b51c8b924465aea4d152d218c5da",
       "version_major": 2,
       "version_minor": 0
      },
      "text/plain": [
       "HBox(children=(Figure(axes=[ColorAxis(orientation='vertical', scale=ColorScale(scheme='Reds'), side='right'), …"
      ]
     },
     "metadata": {},
     "output_type": "display_data"
    }
   ],
   "source": [
    "mySelectedLabel = ipywidgets.Label()\n",
    "def get_data_value(change):\n",
    "    i,j = change['owner'].selected[0]\n",
    "    mask = (df['Agency Name'] == dfheatmap.index[i]) & \\\n",
    "            (df['County'] == dfheatmap.columns.levels[1][j])\n",
    "    subset = df[mask]\n",
    "    \n",
    "    group = subset.groupby(\"Year Acquired\")[\"Square Footage\"].sum()\n",
    "    years = group.index\n",
    "    sqft = group.values\n",
    "    bar.x = years\n",
    "    bar.y = sqft\n",
    "heat_map.observe(get_data_value, 'selected')\n",
    "fig = bqplot.Figure(marks = [heat_map], axes = [c_ax, y_ax, x_ax],\n",
    "                    fig_margin = dict(top=50, bottom=150, left=50, right=50))\n",
    "fig.layout.align_items\n",
    "fig.layout.min_width='700px'\n",
    "fig.layout.min_height='600px'\n",
    "fig_bar.layout.min_width='250px'\n",
    "ipywidgets.HBox([fig,fig_bar])\n"
   ]
  },
  {
   "cell_type": "code",
   "execution_count": null,
   "id": "77f39fab-096c-4c33-8882-87b9e03be5ed",
   "metadata": {},
   "outputs": [],
   "source": []
  },
  {
   "cell_type": "code",
   "execution_count": null,
   "id": "37e2b591-50b7-400f-881f-df8005d98d4f",
   "metadata": {},
   "outputs": [],
   "source": []
  },
  {
   "cell_type": "code",
   "execution_count": null,
   "id": "2816d996-611f-4e39-95ed-245e5f91dc56",
   "metadata": {},
   "outputs": [],
   "source": []
  }
 ],
 "metadata": {
  "kernelspec": {
   "display_name": "Python 3",
   "language": "python",
   "name": "python3"
  },
  "language_info": {
   "codemirror_mode": {
    "name": "ipython",
    "version": 3
   },
   "file_extension": ".py",
   "mimetype": "text/x-python",
   "name": "python",
   "nbconvert_exporter": "python",
   "pygments_lexer": "ipython3",
   "version": "3.8.8"
  }
 },
 "nbformat": 4,
 "nbformat_minor": 5
}
